{
 "cells": [
  {
   "cell_type": "code",
   "execution_count": null,
   "metadata": {},
   "outputs": [],
   "source": [
    "#Used for getting categorical columns of Lime\n",
    "import pandas as pd\n",
    "import numpy as np"
   ]
  },
  {
   "cell_type": "code",
   "execution_count": null,
   "metadata": {},
   "outputs": [],
   "source": [
    "data = pd.read_csv(\"numeric_data.csv\") #This is the numeric_data you gave me\n",
    "data_dictionary = pd.read_csv(\"t1_data_dictionary.csv\")"
   ]
  },
  {
   "cell_type": "code",
   "execution_count": null,
   "metadata": {},
   "outputs": [],
   "source": [
    "data_dictionary.head(10)"
   ]
  },
  {
   "cell_type": "code",
   "execution_count": null,
   "metadata": {},
   "outputs": [],
   "source": [
    "data_dictionary[\"Field Type\"].unique()"
   ]
  },
  {
   "cell_type": "code",
   "execution_count": null,
   "metadata": {},
   "outputs": [],
   "source": [
    "\n",
    "\n",
    "# This code gets me a row for each unique Field Type\n",
    "\n",
    "# Seem slike radio, dropdown, checkbox, are the categorical coluns.\n",
    "\n",
    "# I'm looking at Choices, Calculations column. It seems the fild_type \"slider\" could also be one, but if you think\n",
    "# about a slider it doens't seem categorical\n",
    "\n",
    "\n",
    "\n",
    "data_dictionary.drop_duplicates(subset=\"Field Type\")"
   ]
  },
  {
   "cell_type": "code",
   "execution_count": null,
   "metadata": {},
   "outputs": [],
   "source": [
    "categorical_df = data_dictionary[data_dictionary[\"Field Type\"].isin([\"radio\", \"dropdown\", \"checkbox\"])]\n",
    "categorical_df.head(5)\n",
    "\n",
    "# Gets all rows which are categorical"
   ]
  },
  {
   "cell_type": "code",
   "execution_count": null,
   "metadata": {},
   "outputs": [],
   "source": [
    "categorical_cols = categorical_df[\"Variable / Field Name\"].tolist()\n",
    "categorical_cols\n",
    "#Gets List of categorical_columns"
   ]
  }
 ],
 "metadata": {
  "kernelspec": {
   "display_name": "myenv",
   "language": "python",
   "name": "python3"
  },
  "language_info": {
   "codemirror_mode": {
    "name": "ipython",
    "version": 3
   },
   "file_extension": ".py",
   "mimetype": "text/x-python",
   "name": "python",
   "nbconvert_exporter": "python",
   "pygments_lexer": "ipython3",
   "version": "3.6.8"
  },
  "orig_nbformat": 4
 },
 "nbformat": 4,
 "nbformat_minor": 2
}
