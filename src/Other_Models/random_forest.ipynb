{
 "cells": [
  {
   "cell_type": "code",
   "execution_count": null,
   "metadata": {},
   "outputs": [],
   "source": [
    "import pandas as pd\n",
    "from sklearn.ensemble import RandomForestClassifier\n",
    "from sklearn.model_selection import train_test_split\n",
    "import numpy as np\n",
    "from sklearn.metrics import mean_squared_error"
   ]
  },
  {
   "cell_type": "code",
   "execution_count": null,
   "metadata": {},
   "outputs": [],
   "source": [
    "data = pd.read_csv(\"../data/clean/nd_t1_clean.csv\")\n",
    "\n",
    "data.head(5)"
   ]
  },
  {
   "cell_type": "code",
   "execution_count": null,
   "metadata": {},
   "outputs": [],
   "source": [
    "\n",
    "data = data.drop([\"stais1\", \"stais3\",\"stais4\",\"stais5\",\"stais6\",\"stais7\",\"stais8\",\"stais9\", \"stais10\",\"stais11\",\"stais12\",\"stais13\", \"stais14\",\"stais15\",\"stais16\",\"stais17\",\"stais18\",\"stais19\",\"stais20\", \"sds_1\", \"sds_3\",\"sds_4\", \"sds_5\", \"sds_6\",\"sds_7\",\"sds_8\",\"sds_9\",\"sds_10\",\"sds_11\",\"sds_12\",\"sds_13\", \"sds_14\",\"sds_15\",\"sds_16\",\"sds_17\",\"sds_18\",\"sds_19\",\"sds_20\"], axis=\"columns\")\n",
    "\n",
    "\n",
    "#Drop null columns\n",
    "data = data.dropna(axis=1, how=\"any\")\n",
    "\n",
    "\n",
    "#Drop non-numeric columns\n",
    "\n",
    "data = data._get_numeric_data()\n",
    "\n",
    "\n",
    "#Drop stai_s_score and sds_score\n",
    "\n",
    "y, X = data[[\"sds_score\", \"stai_s_score\"]], data.drop([\"sds_score\", \"stai_s_score\"], axis=\"columns\")\n"
   ]
  },
  {
   "cell_type": "code",
   "execution_count": null,
   "metadata": {},
   "outputs": [],
   "source": [
    "#Test Train Split\n",
    "\n",
    "x_train, x_test, y_train, y_test = train_test_split(X, y, test_size=0.30, random_state=42)"
   ]
  },
  {
   "cell_type": "code",
   "execution_count": null,
   "metadata": {},
   "outputs": [],
   "source": [
    "#Random Forest and Hyperparameter tunning\n",
    "\n",
    "rf_model = RandomForestClassifier()\n",
    "rf_model.fit(x_train, y_train)"
   ]
  },
  {
   "cell_type": "code",
   "execution_count": null,
   "metadata": {},
   "outputs": [],
   "source": [
    "#Testing\n",
    "\n",
    "predictions_train = rf_model.predict(x_train)\n",
    "predictions_test = rf_model.predict(x_test)\n",
    "\n",
    "e_in = mean_squared_error(y_train, predictions_train)\n",
    "e_test = mean_squared_error(y_test, predictions_test)\n",
    "\n",
    "\n",
    "print(f\"Ein: {e_in}\")\n",
    "print(f\"Etest: {e_test}\")"
   ]
  }
 ],
 "metadata": {
  "kernelspec": {
   "display_name": "myenv",
   "language": "python",
   "name": "python3"
  },
  "language_info": {
   "codemirror_mode": {
    "name": "ipython",
    "version": 3
   },
   "file_extension": ".py",
   "mimetype": "text/x-python",
   "name": "python",
   "nbconvert_exporter": "python",
   "pygments_lexer": "ipython3",
   "version": "3.6.8"
  },
  "orig_nbformat": 4
 },
 "nbformat": 4,
 "nbformat_minor": 2
}
