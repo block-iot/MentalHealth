{
 "cells": [
  {
   "cell_type": "code",
   "execution_count": null,
   "metadata": {},
   "outputs": [],
   "source": [
    "import pandas as pd\n",
    "from sklearn.ensemble import RandomForestClassifier\n",
    "from sklearn.model_selection import train_test_split, GridSearchCV, RandomizedSearchCV\n",
    "from sklearn.metrics import mean_squared_error, classification_report\n",
    "import numpy as np"
   ]
  },
  {
   "cell_type": "code",
   "execution_count": null,
   "metadata": {},
   "outputs": [],
   "source": [
    "data = pd.read_csv(\"../data/clean/nd_t1_clean.csv\")\n",
    "\n",
    "data.head(5)"
   ]
  },
  {
   "cell_type": "code",
   "execution_count": null,
   "metadata": {},
   "outputs": [],
   "source": [
    "\n",
    "data = data.drop([\"stais1\", \"stais3\",\"stais4\",\"stais5\",\"stais6\",\"stais7\",\"stais8\",\"stais9\", \"stais10\",\"stais11\",\"stais12\",\"stais13\", \"stais14\",\"stais15\",\"stais16\",\"stais17\",\"stais18\",\"stais19\",\"stais20\", \"sds_1\", \"sds_3\",\"sds_4\", \"sds_5\", \"sds_6\",\"sds_7\",\"sds_8\",\"sds_9\",\"sds_10\",\"sds_11\",\"sds_12\",\"sds_13\", \"sds_14\",\"sds_15\",\"sds_16\",\"sds_17\",\"sds_18\",\"sds_19\",\"sds_20\"], axis=\"columns\")\n",
    "\n",
    "\n",
    "#Drop null columns\n",
    "data = data.dropna(axis=1, how=\"any\")\n",
    "\n",
    "\n",
    "#Drop non-numeric columns\n",
    "\n",
    "data = data._get_numeric_data()\n",
    "\n",
    "\n",
    "#Drop stai_s_score and sds_score\n",
    "\n",
    "y, X = data[[\"sds_score\", \"stai_s_score\"]], data.drop([\"sds_score\", \"stai_s_score\"], axis=\"columns\")\n"
   ]
  },
  {
   "cell_type": "code",
   "execution_count": null,
   "metadata": {},
   "outputs": [],
   "source": [
    "#Test Train Split\n",
    "\n",
    "x_train, x_test, y_train, y_test = train_test_split(X, y, test_size=0.30, random_state=42)\n",
    "\n",
    "sds_train, stai_train = tuple([list(t) for t in zip(*y_train.values.tolist())])\n",
    "sds_test, stai_test = tuple([list(t) for t in zip(*y_test.values.tolist())])\n"
   ]
  },
  {
   "cell_type": "code",
   "execution_count": null,
   "metadata": {},
   "outputs": [],
   "source": [
    "#Hyperparameter tunning\n",
    "\n",
    "# param_grid = { \n",
    "#     'n_estimators': [25, 50, 100, 150], \n",
    "#     'max_features': ['sqrt', 'log2', None], \n",
    "#     'max_depth': [3, 6, 9], \n",
    "#     'max_leaf_nodes': [3, 6, 9], \n",
    "# }\n",
    "\n",
    "# random_search_sds = RandomizedSearchCV(RandomForestClassifier(), param_grid) \n",
    "\n",
    "# random_search_stai = RandomizedSearchCV(RandomForestClassifier(), param_grid)\n",
    "\n",
    "\n",
    "# random_search_sds.fit(x_train, sds_train) \n",
    "# random_search_stai.fit(x_train, stai_train)\n",
    "\n",
    "\n",
    "# print(random_search_sds.best_estimator_)\n",
    "# print(random_search_stai.best_estimator_)"
   ]
  },
  {
   "cell_type": "code",
   "execution_count": null,
   "metadata": {},
   "outputs": [],
   "source": [
    "#Random Forest\n",
    "\n",
    "# rf_model_sds = RandomForestClassifier(max_depth=9, max_features=None, max_leaf_nodes=3, n_estimators=50)\n",
    "# rf_model_stai = RandomForestClassifier(max_depth=3, max_features='sqrt', max_leaf_nodes=6, n_estimators=150)\n",
    "\n",
    "\n",
    "rf_model_sds = RandomForestClassifier()\n",
    "rf_model_stai = RandomForestClassifier()\n",
    "\n",
    "\n",
    "rf_model_sds.fit(x_train, sds_train)\n",
    "rf_model_stai.fit(x_train, stai_train)"
   ]
  },
  {
   "cell_type": "code",
   "execution_count": null,
   "metadata": {},
   "outputs": [],
   "source": [
    "#Testing\n",
    "\n",
    "predictions_sds_train = rf_model_sds.predict(x_train)\n",
    "predictions_stai_train = rf_model_stai.predict(x_train)\n",
    "\n",
    "predictions_sds_test = rf_model_sds.predict(x_test)\n",
    "predictions_stai_test = rf_model_stai.predict(x_test)\n",
    "\n",
    "\n",
    "\n",
    "e_in_sds = mean_squared_error(sds_train, predictions_sds_train)\n",
    "e_in_stai = mean_squared_error(stai_train, predictions_stai_train)\n",
    "\n",
    "\n",
    "e_test_sds = mean_squared_error(sds_test, predictions_sds_test)\n",
    "e_test_stai = mean_squared_error(stai_test, predictions_stai_test)\n",
    "\n",
    "\n",
    "print(f\"Ein sds: {e_in_sds}\")\n",
    "print(f\"Ein stai: {e_in_stai}\")\n",
    "\n",
    "print(f\"Etest sds: {e_test_sds}\")\n",
    "print(f\"Etest stai: {e_test_stai}\")\n",
    "\n",
    "\n",
    "# sds_predict_train, stai_predict_train = tuple([list(t) for t in zip(*predictions_train)])\n",
    "# sds_actual_train, stai_actual_train = tuple([list(t) for t in zip(*y_train.values.tolist())])\n",
    "\n",
    "\n",
    "# sds_predict_test, stai_predict_test = tuple([list(t) for t in zip(*predictions_test)])\n",
    "# sds_actual_test, stai_actual_test = tuple([list(t) for t in zip(*y_test.values.tolist())])\n",
    "\n",
    "\n",
    "# classification_report(sds_predict_train, sds_actual_train)"
   ]
  }
 ],
 "metadata": {
  "kernelspec": {
   "display_name": "myenv",
   "language": "python",
   "name": "python3"
  },
  "language_info": {
   "codemirror_mode": {
    "name": "ipython",
    "version": 3
   },
   "file_extension": ".py",
   "mimetype": "text/x-python",
   "name": "python",
   "nbconvert_exporter": "python",
   "pygments_lexer": "ipython3",
   "version": "3.6.8"
  },
  "orig_nbformat": 4
 },
 "nbformat": 4,
 "nbformat_minor": 2
}
