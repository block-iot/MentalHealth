{
 "cells": [
  {
   "cell_type": "code",
   "execution_count": null,
   "id": "05797f24",
   "metadata": {},
   "outputs": [],
   "source": [
    "#EDA Related to numeric_data and survey_data week one\n",
    "import pandas as pd\n",
    "from scipy.io import loadmat\n",
    "from matplotlib import pyplot as plt\n",
    "import seaborn as sns"
   ]
  },
  {
   "cell_type": "code",
   "execution_count": null,
   "id": "6a3ad8da",
   "metadata": {},
   "outputs": [],
   "source": [
    "# Data File Paths\n",
    "\n",
    "numeric_data_path = '../data/original/covid_t1/numeric_data_t1.mat'\n",
    "survey_data_path = '../data/original/covid_t1/survey_data_t1.mat'\n",
    "\n",
    "numeric_data_csv = \"../data/extra/output.csv\"\n",
    "survey_data_csv = \"../data/csv/week1_csv/survey_data.csv\"\n",
    "\n",
    "# Load the .mat files\n",
    "numeric_data_mat = loadmat(numeric_data_path)\n",
    "survey_data_mat = loadmat(survey_data_path)\n",
    "\n",
    "#Load the csv files\n",
    "numeric_data_df = pd.read_csv(numeric_data_csv, header=None)\n",
    "survey_data_df = pd.read_csv(survey_data_csv, header=None)"
   ]
  },
  {
   "cell_type": "code",
   "execution_count": null,
   "id": "64d94c24",
   "metadata": {},
   "outputs": [],
   "source": [
    "#Parse Headers\n",
    "numeric_headers = []\n",
    "survey_headers = []\n",
    "\n",
    "for i in range(len(numeric_data_mat['numeric_data_headers'][0])):\n",
    "    numeric_headers.append(numeric_data_mat['numeric_data_headers'][0][i][0])\n",
    "\n",
    "\n",
    "for i in range(len(survey_data_mat['survey_data_headers'][0])):\n",
    "\n",
    "    survey_headers.append(survey_data_mat['survey_data_headers'][0][i][0])\n",
    "    "
   ]
  },
  {
   "cell_type": "code",
   "execution_count": null,
   "id": "0f177289",
   "metadata": {},
   "outputs": [],
   "source": [
    "\n",
    "survey_data_df.columns = survey_headers\n",
    "numeric_data_df.columns = numeric_headers"
   ]
  },
  {
   "cell_type": "code",
   "execution_count": null,
   "id": "af1f65f4",
   "metadata": {},
   "outputs": [],
   "source": [
    "#EDA\n",
    "print(numeric_data_df.isnull().sum())"
   ]
  },
  {
   "cell_type": "code",
   "execution_count": null,
   "id": "9843c00e",
   "metadata": {},
   "outputs": [],
   "source": [
    "print(numeric_data_df.describe())"
   ]
  },
  {
   "cell_type": "code",
   "execution_count": null,
   "id": "d38c4a87",
   "metadata": {},
   "outputs": [],
   "source": [
    "#Filter for these columns and run EDA (Add in future: race, mental_health, substance use)? Where is income, marriage??\n",
    "#Age, Gender, edu_level, job ---> sh_score (Happiness)\n",
    "\n",
    "values_dictionary = {\"gender\": [\"Man\", \"Woman\", \"Non-Binary\", \"Other\"], \"edu_level\": [\"1-8 Less than high school\", \"9-11 Some high school\", \"12 High school degree\", \"13-15 Some college\", \"16 Bachelor's degree in college (4-year)\", \"17-25 Graduate School\"], \"job\": [\"Working (paid employee)\", \"Working (self-employed)\", \"Not working (temporary layoff from a job\", \"Not working (looking for work)\", \"Not working (retired)\", \"Not working (disabled)\", \"Not working (other)\", \"Prefer not to answer\"]}\n",
    "\n",
    "numeric_data_df = numeric_data_df.filter(items=['covid_house4___3', 'covid_hr2___9', 'covid_su2___9', 'covid_emo1', \"sh_score\", \"age\",\"gender\", \"edu_level\", \"job\",  \"stai_s_score\", \"sds_score\"])\n",
    "numeric_data_df.head(5)"
   ]
  },
  {
   "cell_type": "code",
   "execution_count": null,
   "id": "fd7f7146",
   "metadata": {},
   "outputs": [],
   "source": [
    "sns.set_style(\"whitegrid\")\n",
    "\n",
    "for feature in numeric_data_df.columns:\n",
    "    plt.figure(figsize=(8, 4))\n",
    "    sns.histplot(numeric_data_df[feature], bins=30, kde=True)\n",
    "    plt.title(f\"Distribution of {feature}\")\n",
    "    plt.show()"
   ]
  },
  {
   "cell_type": "code",
   "execution_count": null,
   "id": "33ddd259",
   "metadata": {},
   "outputs": [],
   "source": [
    "#HEATMAP\n",
    "print(numeric_data_df.columns.tolist())\n",
    "correlation_matrix = numeric_data_df[[\"sh_score\", 'covid_house4___3', 'covid_hr2___9', 'covid_su2___9', 'covid_emo1', \"sds_score\", \"stai_s_score\"]].corr()\n",
    "# 'covid_house4___3', 'covid_hr2___9', 'covid_su2___9', 'covid_emo1', \"shs_score\"\n",
    "plt.figure(figsize=(10, 8))\n",
    "sns.heatmap(correlation_matrix, annot=True, cmap='coolwarm', linewidths=0.5)\n",
    "plt.title(\"Correlation Heatmap\")\n",
    "plt.show()"
   ]
  },
  {
   "cell_type": "code",
   "execution_count": null,
   "id": "d1fbaf4b",
   "metadata": {},
   "outputs": [],
   "source": [
    "categorical_features = [\"age\", \"gender\", \"edu_level\", \"job\"]\n",
    "for feature in categorical_features:\n",
    "    plt.figure(figsize=(8, 6))\n",
    "    sns.boxplot(x=numeric_data_df[feature], y=numeric_data_df[\"stai_s_score\"])\n",
    "    plt.title(f\"Boxplot of {feature} vs sh_score\")\n",
    "    plt.show()"
   ]
  },
  {
   "cell_type": "code",
   "execution_count": null,
   "id": "8b18705b",
   "metadata": {},
   "outputs": [],
   "source": [
    "categorical_features = [\"age\", \"gender\", \"edu_level\", \"job\"]\n",
    "for feature in categorical_features:\n",
    "    plt.figure(figsize=(8, 6))\n",
    "    sns.boxplot(x=numeric_data_df[feature], y=numeric_data_df[\"sds_score\"])\n",
    "    plt.title(f\"Boxplot of {feature} vs sds_score\")\n",
    "    plt.show()"
   ]
  },
  {
   "cell_type": "code",
   "execution_count": null,
   "id": "0b7d7b70",
   "metadata": {},
   "outputs": [],
   "source": [
    "#Findings\n",
    "\n",
    "\n",
    "\"\"\"\n",
    "Distributions of age on the lower end. Mostly people in the late 20's\n",
    "\n",
    "Pretty even distribution between male and females.\n",
    "\n",
    "Majority of people, attended/graduated college, and are currently in a job.\n",
    "\n",
    "\n",
    "The stai_s_score is a normal distribution, peaking around 40.\n",
    "\n",
    "\n",
    "\n",
    "\n",
    "The main row for the heat map is the bottom Row. Doesn't make sense to be comparing other categories.\n",
    "\n",
    "Finally the box plot shows the breakdown shows the quartiles of stai_s_score based on each sub-category of the input variables.\n",
    "\n",
    "\"\"\""
   ]
  },
  {
   "cell_type": "code",
   "execution_count": null,
   "id": "6e9ce1fa",
   "metadata": {},
   "outputs": [],
   "source": [
    "\"\"\"\n",
    "EXPLORE SURVEY DATA\n",
    "\"\"\"\n",
    "print(len(survey_headers))\n",
    "print(survey_headers)"
   ]
  },
  {
   "cell_type": "code",
   "execution_count": null,
   "id": "e9317785",
   "metadata": {},
   "outputs": [],
   "source": [
    "print(survey_data_df.head(5))"
   ]
  },
  {
   "cell_type": "code",
   "execution_count": null,
   "id": "f0cabb85",
   "metadata": {},
   "outputs": [],
   "source": [
    "print(survey_data_df[\"covid_su2___11\"])"
   ]
  },
  {
   "cell_type": "code",
   "execution_count": null,
   "id": "5e2b7f48",
   "metadata": {},
   "outputs": [],
   "source": [
    "print(survey_data_df['covid_pre9'])"
   ]
  }
 ],
 "metadata": {
  "kernelspec": {
   "display_name": "Python 3",
   "language": "python",
   "name": "python3"
  },
  "language_info": {
   "codemirror_mode": {
    "name": "ipython",
    "version": 3
   },
   "file_extension": ".py",
   "mimetype": "text/x-python",
   "name": "python",
   "nbconvert_exporter": "python",
   "pygments_lexer": "ipython3",
   "version": "3.6.8"
  }
 },
 "nbformat": 4,
 "nbformat_minor": 5
}
