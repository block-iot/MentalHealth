{
 "cells": [
  {
   "cell_type": "code",
   "execution_count": null,
   "id": "4e199b6f",
   "metadata": {
    "scrolled": true
   },
   "outputs": [],
   "source": [
    "import numpy as np\n",
    "import pandas as pd\n",
    "import matplotlib.pyplot as plt\n",
    "from statsmodels.tsa.arima_model import ARIMA\n",
    "\n",
    "nd1 = pd.read_csv('nd_t1_clean.csv')\n",
    "nd1 = nd1.drop('Unnamed: 0', axis = 1)\n",
    "\n",
    "nd2 = pd.read_csv('nd_t2_clean.csv')\n",
    "nd2 = nd2.drop('Unnamed: 0', axis = 1)\n",
    "\n",
    "nd3 = pd.read_csv('nd_t3_clean.csv')\n",
    "nd3 = nd3.drop('Unnamed: 0', axis = 1)\n",
    "\n",
    "nd4 = pd.read_csv('nd_t4_clean.csv')\n",
    "nd4 = nd4.drop('Unnamed: 0', axis = 1)\n",
    "\n",
    "nd5 = pd.read_csv('nd_t5_clean.csv')\n",
    "nd5 = nd5.drop('Unnamed: 0', axis = 1)\n",
    "\n",
    "nd6 = pd.read_csv('nd_t6_clean.csv')\n",
    "nd6 = nd6.drop('Unnamed: 0', axis = 1)\n",
    "\n",
    "nd7 = pd.read_csv('nd_t7_clean.csv')\n",
    "nd7 = nd7.drop('Unnamed: 0', axis = 1)\n",
    "\n",
    "nd8 = pd.read_csv('nd_t8_clean.csv')\n",
    "nd8 = nd8.drop('Unnamed: 0', axis = 1)\n",
    "\n",
    "nd9 = pd.read_csv('nd_t9_clean.csv')\n",
    "nd9 = nd9.drop('Unnamed: 0', axis = 1)\n",
    "\n",
    "nd10 = pd.read_csv('nd_t10_clean.csv')\n",
    "nd10 = nd10.drop('Unnamed: 0', axis = 1)\n",
    "\n",
    "\n",
    "columns = nd1.iloc[:,0].tolist()\n",
    "#index=['week1','week3','week4','week5','week6','week7','week8','week9','week10']\n",
    "index=['week1','week2','week3','week4','week5','week6','week7','week8','week9']\n",
    "\n",
    "data_stais = pd.DataFrame(columns = columns, index = index)\n",
    "data_sds = pd.DataFrame(columns = columns, index = index)\n",
    "\n",
    "print(data_stais.shape)\n",
    "#id = nd1['prolific_pid'][0]\n",
    "#print(id)\n",
    "#data_stais[id][0] = nd1[\"stai_s_score\"][0]\n",
    "print(data_stais)\n"
   ]
  },
  {
   "cell_type": "code",
   "execution_count": null,
   "id": "b8805acb",
   "metadata": {
    "scrolled": true
   },
   "outputs": [],
   "source": [
    "#datas = [nd1,nd3,nd4,nd5,nd6,nd7,nd8,nd9,nd10]\n",
    "datas = [nd1,nd2,nd3,nd4,nd5,nd6,nd7,nd8,nd9]\n",
    "\n",
    "def readdata(datas, data_stais, data_sds):\n",
    "    for i in range(len(datas)):\n",
    "        data = datas[i]\n",
    "        \n",
    "        for j in range(data.shape[0]):\n",
    "            id = data['prolific_pid'][j]\n",
    "            data_stais[id][i] = data[\"stai_s_score\"][j]\n",
    "            data_sds[id][i] = data[\"sds_score\"][j]\n",
    "    #return data_        \n",
    "readdata(datas, data_stais, data_sds)\n",
    "print(data_stais)"
   ]
  },
  {
   "cell_type": "code",
   "execution_count": null,
   "id": "a2adc099",
   "metadata": {},
   "outputs": [],
   "source": [
    "#print(columns)\n",
    "w1p1 = data_stais[columns[0]]\n",
    "#w1p1 = data_stais.mean(1)\n",
    "print(w1p1)"
   ]
  },
  {
   "cell_type": "code",
   "execution_count": null,
   "id": "a0398850",
   "metadata": {},
   "outputs": [],
   "source": [
    "\n",
    "plt.plot(w1p1)\n",
    "plt.title('Time Series Data')\n",
    "plt.xlabel('Date')\n",
    "plt.ylabel('Value')\n",
    "plt.show()\n",
    "\n",
    "w1p1_diff = w1p1.diff().dropna()\n",
    "\n",
    "plt.plot(w1p1_diff)\n",
    "plt.title('Time Series Data')\n",
    "plt.xlabel('Date')\n",
    "plt.ylabel('Value')\n",
    "plt.show()"
   ]
  },
  {
   "cell_type": "code",
   "execution_count": null,
   "id": "3755d90f",
   "metadata": {},
   "outputs": [],
   "source": [
    "from statsmodels.tsa.stattools import adfuller\n",
    "\n",
    "result = adfuller(w1p1)\n",
    "print('ADF Statistic:', result[0])\n",
    "print('p-value:', result[1])\n",
    "print('Critical Values:', result[4])\n",
    "\n",
    "\n",
    "result1 = adfuller(w1p1_diff)\n",
    "print('ADF Statistic:', result1[0])\n",
    "print('p-value:', result1[1])\n",
    "print('Critical Values:', result1[4])"
   ]
  },
  {
   "cell_type": "code",
   "execution_count": null,
   "id": "a46007a9",
   "metadata": {},
   "outputs": [],
   "source": [
    "from statsmodels.graphics.tsaplots import plot_acf, plot_pacf\n",
    "\n",
    "plot_acf(w1p1)\n",
    "plt.show()\n",
    "\n",
    "plot_acf(w1p1_diff)\n",
    "plt.show()"
   ]
  },
  {
   "cell_type": "code",
   "execution_count": null,
   "id": "a0ecbbd0",
   "metadata": {},
   "outputs": [],
   "source": []
  }
 ],
 "metadata": {
  "kernelspec": {
   "display_name": "Python 3 (ipykernel)",
   "language": "python",
   "name": "python3"
  },
  "language_info": {
   "codemirror_mode": {
    "name": "ipython",
    "version": 3
   },
   "file_extension": ".py",
   "mimetype": "text/x-python",
   "name": "python",
   "nbconvert_exporter": "python",
   "pygments_lexer": "ipython3",
   "version": "3.9.12"
  }
 },
 "nbformat": 4,
 "nbformat_minor": 5
}
