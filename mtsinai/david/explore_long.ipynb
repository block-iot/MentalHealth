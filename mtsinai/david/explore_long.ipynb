{
 "cells": [
  {
   "cell_type": "code",
   "execution_count": 1,
   "metadata": {},
   "outputs": [],
   "source": [
    "import pandas as pd\n",
    "from scipy.io import loadmat\n",
    "from matplotlib import pyplot as plt\n",
    "import seaborn as sns"
   ]
  },
  {
   "cell_type": "code",
   "execution_count": 2,
   "metadata": {},
   "outputs": [],
   "source": [
    "def getNumericDF(path, csv_path, week):\n",
    "\n",
    "    numeric_mat = loadmat(path)\n",
    "    numeric_df = pd.read_csv(csv_path, header=None)\n",
    "    \n",
    "    numeric_headers = []\n",
    "\n",
    "    for i in range(len(numeric_mat['numeric_data_t'+ week+ '_headers'][0])):\n",
    "        numeric_headers.append(numeric_mat['numeric_data_t' + week + '_headers'][0][i][0])\n",
    "\n",
    "    numeric_df.columns = numeric_headers\n",
    "    return numeric_df\n",
    "    "
   ]
  },
  {
   "cell_type": "code",
   "execution_count": 3,
   "metadata": {},
   "outputs": [],
   "source": [
    "#Logitudinal Data\n",
    "\n",
    "# Data File Paths\n",
    "# numeric_data_t1_path = '../data/covid_t1/numeric_data_t1.mat'\n",
    "# numeric_data1_csv = \"../data/csv/week1_csv/numeric_data.csv\"\n",
    "\n",
    "numeric_data_t2_path = '../data/original/covid_t2/numeric_data_t2.mat'\n",
    "numeric_data2_csv = \"../data/csv/week2_csv/numeric_data.csv\"\n",
    "\n",
    "numeric_data_t4_path = '../data/original/covid_t4/numeric_data_t4.mat'\n",
    "numeric_data4_csv = \"../data/csv/week4_csv/numeric_data.csv\"\n",
    "\n",
    "\n",
    "# numeric_t1_df = getNumericDF(numeric_data_t1_path, numeric_data1_csv, \"1\")\n",
    "numeric_t2_df = getNumericDF(numeric_data_t2_path, numeric_data2_csv, \"2\")\n",
    "numeric_t4_df = getNumericDF(numeric_data_t4_path, numeric_data4_csv, \"4\")\n",
    "\n",
    "\n",
    "\n",
    "#Grab a new Data set and RUN EDA for longitudinal data (Inner join Id's, inner Join of columns, (Check id's and columns that are not the same))\n"
   ]
  },
  {
   "cell_type": "code",
   "execution_count": 4,
   "metadata": {},
   "outputs": [],
   "source": [
    "# print(numeric_t1_df.head(5))"
   ]
  },
  {
   "cell_type": "code",
   "execution_count": 5,
   "metadata": {},
   "outputs": [
    {
     "name": "stdout",
     "output_type": "stream",
     "text": [
      "                   prolific  demographics_timestamp  age  sex  gender  hit  \\\n",
      "0  546ec14dfdf99b2bc7ebd032                     NaN  NaN  NaN     NaN  NaN   \n",
      "1  54847013fdf99b0379939c8a                     NaN  NaN  NaN     NaN  NaN   \n",
      "2  548491acfdf99b0379939cc0                     NaN  NaN  NaN     NaN  NaN   \n",
      "3  54924b8efdf99b77ccedc1d5                     NaN  NaN  NaN     NaN  NaN   \n",
      "4  54e4be1bfdf99b5bad68f1a5                     NaN  NaN  NaN     NaN  NaN   \n",
      "\n",
      "   race___1  race___2  race___3  race___4  ...  su_crave10  su_crave11  \\\n",
      "0       NaN       NaN       NaN       NaN  ...         0.0         0.0   \n",
      "1       NaN       NaN       NaN       NaN  ...         0.0         0.0   \n",
      "2       NaN       NaN       NaN       NaN  ...         0.0         0.0   \n",
      "3       NaN       NaN       NaN       NaN  ...         0.0         0.0   \n",
      "4       NaN       NaN       NaN       NaN  ...         2.0         2.0   \n",
      "\n",
      "   su_complete  past_su1  past_su_age1  past_su2  past_su_age2  past_su3  \\\n",
      "0          2.0       3.0           NaN       3.0           NaN       3.0   \n",
      "1          2.0       3.0           NaN       3.0           NaN       3.0   \n",
      "2          2.0       3.0           NaN       3.0           NaN       3.0   \n",
      "3          2.0       3.0           NaN       3.0           NaN       3.0   \n",
      "4          2.0       1.0          16.0       1.0          20.0       3.0   \n",
      "\n",
      "   past_su_age3  past_su_complete  \n",
      "0           NaN               2.0  \n",
      "1           NaN               2.0  \n",
      "2           NaN               2.0  \n",
      "3           NaN               2.0  \n",
      "4           NaN               2.0  \n",
      "\n",
      "[5 rows x 383 columns]\n"
     ]
    }
   ],
   "source": [
    "print(numeric_t2_df.head(5))"
   ]
  },
  {
   "cell_type": "code",
   "execution_count": 6,
   "metadata": {},
   "outputs": [
    {
     "name": "stdout",
     "output_type": "stream",
     "text": [
      "               prolific_pid  correct_id  att_sum  id_grab_complete  \\\n",
      "0  546ec14dfdf99b2bc7ebd032         1.0      0.0               2.0   \n",
      "1  54847013fdf99b0379939c8a         1.0      0.0               2.0   \n",
      "2  548491acfdf99b0379939cc0         1.0      0.0               2.0   \n",
      "3  54924b8efdf99b77ccedc1d5         1.0      0.0               2.0   \n",
      "4  54e4be1bfdf99b5bad68f1a5         1.0      0.0               2.0   \n",
      "\n",
      "   consent_choice  consent_complete  stais1  stais2  stais3  stais4  ...  \\\n",
      "0             1.0               2.0     4.0     3.0     1.0     1.0  ...   \n",
      "1             1.0               2.0     3.0     3.0     2.0     2.0  ...   \n",
      "2             1.0               2.0     3.0     2.0     1.0     1.0  ...   \n",
      "3             1.0               2.0     2.0     2.0     1.0     2.0  ...   \n",
      "4             1.0               2.0     4.0     4.0     1.0     1.0  ...   \n",
      "\n",
      "   su_crave10  su_crave11  su_complete  past_su1  past_su_age1  past_su2  \\\n",
      "0         0.0         0.0          2.0       3.0           NaN       3.0   \n",
      "1         0.0         0.0          2.0       3.0           NaN       3.0   \n",
      "2         0.0         0.0          2.0       3.0           NaN       3.0   \n",
      "3         0.0         0.0          2.0       3.0           NaN       3.0   \n",
      "4         1.0         1.0          2.0       1.0          14.0       1.0   \n",
      "\n",
      "   past_su_age2  past_su3  past_su_age3  past_su_complete  \n",
      "0           NaN       3.0           NaN               2.0  \n",
      "1           NaN       3.0           NaN               2.0  \n",
      "2           NaN       3.0           NaN               2.0  \n",
      "3           NaN       3.0           NaN               2.0  \n",
      "4          20.0       3.0           NaN               2.0  \n",
      "\n",
      "[5 rows x 207 columns]\n"
     ]
    }
   ],
   "source": [
    "print(numeric_t4_df.head(5))"
   ]
  },
  {
   "cell_type": "code",
   "execution_count": 7,
   "metadata": {},
   "outputs": [
    {
     "name": "stdout",
     "output_type": "stream",
     "text": [
      "199 Shared columns: {'covid_sm2', 'covid_gg3', 'cov_dx4', 'sds_11', 'covid_house8', 'stais18', 'covid_house4___3', 'q4sh', 'covid_pb6___3', 'covid_now12', 'su_crave5', 'covid_i2___3', 'stais17', 'su_crave4', 'sds_13', 'sh_score', 'covid_pb6___9', 'sds_19', 'covid_now8', 'oci_att', 'stais7', 'covid_house2', 'covid_gg1', 'su_crave8', 'covid_pb1', 'sds_10', 'pss4', 'sds_att', 'oci_16', 'covid_house10', 'covid_pa3', 'stai_s_complete', 'stais11', 'oci_8', 'covid_pa4', 'su_complete', 'oci_9', 'covid_emo4', 'covid_pa1', 'covid_pb5', 'oci_15', 'covid_now4', 'sds_score', 'covid_i2___4', 'past_su_age2', 'past_su1', 'covid_pa6', 'pss3', 'covid_pb6___11', 'su_crave1', 'cov_dx2', 'sh_complete', 'ucls_score', 'su_crave3', 'stais4', 'ucls_1', 'covid_now5', 'oci_1', 'covid_pb4', 'oci_14', 'oci_11', 'stais15', 'sds_9', 'sds_17', 'past_su_age3', 'covid_emo6', 'sds_3', 'zung_sds_complete', 'sds_12', 'covid_gg4', 'stais6', 'ucls_2', 'sds_4', 'covid_pb6___6', 'covid_now2', 'covid_pb8', 'covid_emo5', 'stais1', 'covid_job1', 'su_crave6', 'covid_house5___3', 'stais8', 'covid_house1', 'score_pss', 'pss1', 'q3sh', 'covid_pb6___8', 'covid_pb6___10', 'su_crave2', 'ucls_5', 'covid_now13', 'sds_20', 'past_su_age1', 'covid_pb10', 'stais20', 'cov_dx5', 'ucls_3', 'covid_now10', 'covid_pb6___7', 'covid_sm6', 'su_crave9', 'covid_now3', 'pss2', 'covid_sm4', 'stais14', 'sds_14', 'covid_house5___1', 'uls8_complete', 'covid_pb2', 'covid_job5', 'cov_dx1', 'sds_2', 'q2sh', 'covid_house4___1', 'covid_house4___2', 'stais3', 'covid_house6', 'past_su2', 'covid_pa2', 'past_su3', 'oci_18', 'covid_house3', 'covid_i2___2', 'covid_emo2', 'oci_6', 'covid_pb6___2', 'cov_dx6', 'oci_12', 'covid_sm5', 'pss_complete', 'oci_17', 'stais16', 'covid_emo1', 'past_su_complete', 'ucls_7', 'stais13', 'sds_5', 'oci_5', 'stais12', 'covid_i1', 'sds_1', 'covid_pb11', 'covid_pb6___4', 'covid_house5___4', 'covid_pb6___1', 'covid_now1', 'covid_pb6___5', 'sds_6', 'imc_4', 'stai_s_score', 'covid_pb3', 'stais19', 'covid_pb9', 'cov_dx3', 'covid_house4___4', 'oci_complete', 'covid_sm3', 'sds_8', 'covid_now6', 'covid_now7', 'oci_13', 'ucls_4', 'covid_i2___1', 'covid_job7', 'covid_house7', 'oci_7', 'covid_now15', 'stais9', 'stais10', 'stais5', 'oci_10', 'covid_now9', 'su_crave11', 'ucls_6', 'oci_score', 'covid_emo3', 'covid_i2___6', 'covid_now11', 'sds_7', 'oci_4', 'covid_house0', 'covid_job3', 'sds_18', 'oci_3', 'stais2', 'covid_pa5', 'covid_house9', 'covid_i2___5', 'covid_gg2', 'sds_15', 'covid_house5___2', 'covid_now14', 'su_crave10', 'oci_2', 'covid_complete', 'q1sh', 'su_crave7', 'ucls_8', 'sds_16'}\n",
      "184 Columns only in numeric_data_df: {'dtm9', 'psych_med_specified', 'dtn8', 'stait18', 'covid_hr2___4', 'stait12', 'marriage', 'ace4', 'stait10', 'covid_housed7', 'dtn4', 'sd_total', 'age', 'dtp3', 'ace3', 'race___5', 'ace6', 'ace8', 'stait5', 'covid_sm1', 'dtp7', 'handedness', 'covid_pre1', 'covid_hr2___7', 'gad', 'stait15', 'covid_su2___3', 'dtn5', 'dt_timestamp', 'stai_t_score', 'polit_party', 'dtm3', 'covid_pre6', 'race___6', 'stait8', 'ladder_us', 'covid_hr2___1', 'stait2', 'edu_level', 'hit', 'stait9', 'covid_housed8', 'sad', 'talc4', 'demographics_timestamp', 'covid_housed5___1', 'covid_pre14', 'stait17', 'dtn_score', 'covid_su2___7', 'covid_su2___5', 'race___8', 'stait19', 'occupation', 'ace_complete', 'scz', 'ace5', 'covid_housed4___4', 'covid_su2___11', 'sud', 'spd', 'covid_hr1', 'dtm2', 'panic', 'stait7', 'bpd', 'covid_su2___4', 'dtm8', 'bipolar', 'ld', 'dtp5', 'covid_pre3', 'stait14', 'covid_housed5___3', 'dt_complete', 'covid_housed3', 'talc_complete', 'gender', 'dtm4', 'covid_housed6', 'covid_pre9', 'talc2', 'race___7', 'covid_su2___1', 'adhd', 'race___1', 'covid_hr2___12', 'dtn2', 'income', 'covid_pre11', 'dtm_score', 'covid_hr2___11', 'ptsd', 'zip_code', 'adjust', 'race___4', 'covid_hr2___5', 'covid_pre12', 'religion', 'ace9', 'dtm7', 'dtn6', 'dtp4', 'covid_hr2___6', 'covid_su2___8', 'demographics_complete', 'score_ace', 'race___2', 'stai_t_timestamp', 'covid_pre15', 'job', 'avpd', 'covid_pre4', 'covid_housed1', 'ace10', 'talc_timestamp', 'dtm1', 'dtp2', 'ace2', 'covid_su2___6', 'mdd', 'dtp6', 'stait6', 'dtp_score', 'covid_housed5___4', 'race_other', 'autism', 'covid_hr2___3', 'talc5', 'covid_housed2', 'stait4', 'covid_pre13', 'talc_score', 'talc1', 'stait20', 'tourettes', 'dtp9', 'covid_housed10', 'covid_su2___9', 'covid_pre10', 'dtn3', 'job_other', 'stait16', 'ace_timestamp', 'talc6', 'race___3', 'covid_hr2___8', 'stai_t_complete', 'dtm6', 'dtn7', 'covid_pre2', 'stait3', 'ocd', 'dtm5', 'psych_med_current', 'sex', 'covid_housed4___2', 'ed', 'covid_pre5', 'dtp1', 'covid_housed4___1', 'gambling', 'dtn1', 'stait11', 'dtn9', 'ace1', 'covid_su2___2', 'stait13', 'dtp8', 'covid_hr2___9', 'covid_pre7', 'covid_housed9', 'ace7', 'covid_hr2___2', 'talc3', 'covid_housed5___2', 'state', 'stait1', 'covid_housed4___3', 'other_disorder', 'covid_su2___10', 'covid_hr2___10', 'covid_pre8', 'prolific'}\n",
      "8 Columns only in numeric_data4_df: {'correct_id', 'covid_job6', 'consent_complete', 'consent_choice', 'covid_sm6_other', 'id_grab_complete', 'prolific_pid', 'att_sum'}\n"
     ]
    }
   ],
   "source": [
    "# Get the columns of both dataframes as sets\n",
    "cols_numeric_data2_df = set(numeric_t2_df.columns)\n",
    "cols_numeric_data4_df = set(numeric_t4_df.columns)\n",
    "\n",
    "# Find shared columns\n",
    "shared_columns = cols_numeric_data2_df.intersection(cols_numeric_data4_df)\n",
    "\n",
    "\n",
    "only_in_numeric_data_df = cols_numeric_data2_df - cols_numeric_data4_df\n",
    "\n",
    "\n",
    "only_in_numeric_data4_df = cols_numeric_data4_df - cols_numeric_data2_df\n",
    "\n",
    "\n",
    "print(str(len(shared_columns)), \"Shared columns:\", shared_columns)\n",
    "print(str(len(only_in_numeric_data_df)), \"Columns only in numeric_data_df:\", only_in_numeric_data_df)\n",
    "print(str(len(only_in_numeric_data4_df)), \"Columns only in numeric_data4_df:\", only_in_numeric_data4_df)\n"
   ]
  },
  {
   "cell_type": "code",
   "execution_count": 8,
   "metadata": {},
   "outputs": [
    {
     "name": "stdout",
     "output_type": "stream",
     "text": [
      "Shared Users: 1089\n",
      "Week 2 only: 223\n",
      "Week 4 only: 6\n"
     ]
    }
   ],
   "source": [
    "#See same participants\n",
    "\n",
    "t2_set = set(numeric_t2_df[\"prolific\"].tolist())\n",
    "t4_set = set(numeric_t4_df [\"prolific_pid\"].tolist())\n",
    "\n",
    "\n",
    "\n",
    "# Find shared Users\n",
    "shared_users = t2_set.intersection(t4_set)\n",
    "\n",
    "\n",
    "only_in_two = t2_set - t4_set\n",
    "\n",
    "\n",
    "only_in_four = t4_set - t2_set\n",
    "\n",
    "print(\"Shared Users: {}\".format(len(shared_users)))\n",
    "print(\"Week 2 only: {}\".format(len(only_in_two)))\n",
    "print(\"Week 4 only: {}\".format(len(only_in_four)))"
   ]
  },
  {
   "cell_type": "code",
   "execution_count": null,
   "metadata": {},
   "outputs": [],
   "source": []
  }
 ],
 "metadata": {
  "kernelspec": {
   "display_name": "myenv",
   "language": "python",
   "name": "python3"
  },
  "language_info": {
   "codemirror_mode": {
    "name": "ipython",
    "version": 3
   },
   "file_extension": ".py",
   "mimetype": "text/x-python",
   "name": "python",
   "nbconvert_exporter": "python",
   "pygments_lexer": "ipython3",
   "version": "3.6.8"
  },
  "orig_nbformat": 4
 },
 "nbformat": 4,
 "nbformat_minor": 2
}
