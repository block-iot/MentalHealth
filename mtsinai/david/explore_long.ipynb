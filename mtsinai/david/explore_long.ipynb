{
 "cells": [
  {
   "cell_type": "code",
   "execution_count": null,
   "metadata": {},
   "outputs": [],
   "source": [
    "import pandas as pd\n",
    "from scipy.io import loadmat\n",
    "from matplotlib import pyplot as plt\n",
    "import seaborn as sns"
   ]
  },
  {
   "cell_type": "code",
   "execution_count": null,
   "metadata": {},
   "outputs": [],
   "source": [
    "def getNumericDF(path, csv_path, week):\n",
    "\n",
    "    numeric_mat = loadmat(path)\n",
    "    numeric_df = pd.read_csv(csv_path, header=None)\n",
    "    \n",
    "    numeric_headers = []\n",
    "\n",
    "    for i in range(len(numeric_mat['numeric_data_t'+ week+ '_headers'][0])):\n",
    "        numeric_headers.append(numeric_mat['numeric_data_t' + week + '_headers'][0][i][0])\n",
    "\n",
    "    numeric_df.columns = numeric_headers\n",
    "    return numeric_df\n",
    "    "
   ]
  },
  {
   "cell_type": "code",
   "execution_count": null,
   "metadata": {},
   "outputs": [],
   "source": [
    "#Logitudinal Data\n",
    "\n",
    "# Data File Paths\n",
    "# numeric_data_t1_path = '../data/covid_t1/numeric_data_t1.mat'\n",
    "# numeric_data1_csv = \"../data/csv/week1_csv/numeric_data.csv\"\n",
    "\n",
    "numeric_data_t2_path = '../data/covid_t2/numeric_data_t2.mat'\n",
    "numeric_data2_csv = \"../data/csv/week2_csv/numeric_data.csv\"\n",
    "\n",
    "numeric_data_t4_path = '../data/covid_t4/numeric_data_t4.mat'\n",
    "numeric_data4_csv = \"../data/csv/week4_csv/numeric_data.csv\"\n",
    "\n",
    "\n",
    "# numeric_t1_df = getNumericDF(numeric_data_t1_path, numeric_data1_csv, \"1\")\n",
    "numeric_t2_df = getNumericDF(numeric_data_t2_path, numeric_data2_csv, \"2\")\n",
    "numeric_t4_df = getNumericDF(numeric_data_t4_path, numeric_data4_csv, \"4\")\n",
    "\n",
    "\n",
    "\n",
    "#Grab a new Data set and RUN EDA for longitudinal data (Inner join Id's, inner Join of columns, (Check id's and columns that are not the same))\n"
   ]
  },
  {
   "cell_type": "code",
   "execution_count": null,
   "metadata": {},
   "outputs": [],
   "source": [
    "# print(numeric_t1_df.head(5))"
   ]
  },
  {
   "cell_type": "code",
   "execution_count": null,
   "metadata": {},
   "outputs": [],
   "source": [
    "print(numeric_t2_df.head(5))"
   ]
  },
  {
   "cell_type": "code",
   "execution_count": null,
   "metadata": {},
   "outputs": [],
   "source": [
    "print(numeric_t4_df.head(5))"
   ]
  },
  {
   "cell_type": "code",
   "execution_count": null,
   "metadata": {},
   "outputs": [],
   "source": [
    "# Get the columns of both dataframes as sets\n",
    "cols_numeric_data2_df = set(numeric_t2_df.columns)\n",
    "cols_numeric_data4_df = set(numeric_t4_df.columns)\n",
    "\n",
    "# Find shared columns\n",
    "shared_columns = cols_numeric_data2_df.intersection(cols_numeric_data4_df)\n",
    "\n",
    "\n",
    "only_in_numeric_data_df = cols_numeric_data2_df - cols_numeric_data4_df\n",
    "\n",
    "\n",
    "only_in_numeric_data4_df = cols_numeric_data4_df - cols_numeric_data2_df\n",
    "\n",
    "\n",
    "print(str(len(shared_columns)), \"Shared columns:\", shared_columns)\n",
    "print(str(len(only_in_numeric_data_df)), \"Columns only in numeric_data_df:\", only_in_numeric_data_df)\n",
    "print(str(len(only_in_numeric_data4_df)), \"Columns only in numeric_data4_df:\", only_in_numeric_data4_df)\n"
   ]
  },
  {
   "cell_type": "code",
   "execution_count": null,
   "metadata": {},
   "outputs": [],
   "source": [
    "#See same participants\n",
    "\n",
    "t2_set = set(numeric_t2_df[\"prolific\"].tolist())\n",
    "t4_set = set(numeric_t4_df [\"prolific_pid\"].tolist())\n",
    "\n",
    "\n",
    "\n",
    "# Find shared Users\n",
    "shared_users = t2_set.intersection(t4_set)\n",
    "\n",
    "\n",
    "only_in_two = t2_set - t4_set\n",
    "\n",
    "\n",
    "only_in_four = t4_set - t2_set\n",
    "\n",
    "print(\"Shared Users: {}\".format(len(shared_users)))\n",
    "print(\"Week 2 only: {}\".format(len(only_in_two)))\n",
    "print(\"Week 4 only: {}\".format(len(only_in_four)))"
   ]
  }
 ],
 "metadata": {
  "kernelspec": {
   "display_name": "myenv",
   "language": "python",
   "name": "python3"
  },
  "language_info": {
   "codemirror_mode": {
    "name": "ipython",
    "version": 3
   },
   "file_extension": ".py",
   "mimetype": "text/x-python",
   "name": "python",
   "nbconvert_exporter": "python",
   "pygments_lexer": "ipython3",
   "version": "3.6.8"
  },
  "orig_nbformat": 4
 },
 "nbformat": 4,
 "nbformat_minor": 2
}
